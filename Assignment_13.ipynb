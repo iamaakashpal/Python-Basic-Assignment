{
 "cells": [
  {
   "cell_type": "markdown",
   "metadata": {},
   "source": [
    "    1. What advantages do Excel spreadsheets have over CSV spreadsheets?"
   ]
  },
  {
   "cell_type": "markdown",
   "metadata": {},
   "source": [
    "--> Excel spreadsheet stores data, macros, formulas, and operation whereas CSV file is just the comma-separated text file and only stores data."
   ]
  },
  {
   "cell_type": "markdown",
   "metadata": {},
   "source": [
    "    2.What do you pass to csv.reader() and csv.writer() to create reader and writer objects?"
   ]
  },
  {
   "cell_type": "markdown",
   "metadata": {},
   "source": [
    "--> csv.reader() is used to read the csv file data, it uses an open file object in the reading mode it has another parameter as a delimiter which signifies how the user wants to delimit the file using space, tab,etc. while the csv.writer() function returns a writer object that converts the users data into a delimited string. This string can later be used to write into csv files using the writer() function."
   ]
  },
  {
   "cell_type": "code",
   "execution_count": 11,
   "metadata": {},
   "outputs": [
    {
     "name": "stdout",
     "output_type": "stream",
     "text": [
      "['Name', 'Number']\n",
      "[]\n",
      "['LMN', '24']\n",
      "[]\n",
      "['XYZ', '24']\n",
      "[]\n",
      "['ABC', '25']\n",
      "[]\n"
     ]
    }
   ],
   "source": [
    "import csv\n",
    "with open('test.csv', mode ='r') as file:\n",
    "    f = csv.reader(file)\n",
    "    for i in f:\n",
    "        print(i)\n"
   ]
  },
  {
   "cell_type": "code",
   "execution_count": 12,
   "metadata": {},
   "outputs": [],
   "source": [
    "col = ['Name', 'Number']\n",
    "rows = ['LMN', '24'],['XYZ', '24'],['ABC', '25']\n",
    "\n",
    "with open('test.csv', 'w') as file:\n",
    "    f = csv.writer(file)\n",
    "    f.writerow(col)\n",
    "    f.writerows(rows)"
   ]
  },
  {
   "cell_type": "markdown",
   "metadata": {},
   "source": [
    "    3. What modes do File objects for reader and writer objects need to be opened in?"
   ]
  },
  {
   "cell_type": "markdown",
   "metadata": {},
   "source": [
    "--> The File reader object need to open in 'r' mode i.e. read mode whereas file writer object need to be open in 'w' mode i.e. write mode."
   ]
  },
  {
   "cell_type": "markdown",
   "metadata": {},
   "source": [
    "    4. What method takes a list argument and writes it to a CSV file?"
   ]
  },
  {
   "cell_type": "markdown",
   "metadata": {},
   "source": [
    "--> The csv.writer writerow method is used to take a list as an argument and writes it to a CSV file."
   ]
  },
  {
   "cell_type": "markdown",
   "metadata": {},
   "source": [
    "    5. What do the keyword arguments delimiter and line terminator do?"
   ]
  },
  {
   "cell_type": "markdown",
   "metadata": {},
   "source": [
    "--> A delimiter is the character that appears between cells on a row. The delimiter for a CSV file is a comma whereas A line terminator is the character that comes at the end of a row.The line terminator is a newline. delimiters can be space, tab,comma and symbol etc."
   ]
  },
  {
   "cell_type": "markdown",
   "metadata": {},
   "source": [
    "    6. What function takes a string of JSON data and returns a Python data structure?"
   ]
  },
  {
   "cell_type": "markdown",
   "metadata": {},
   "source": [
    "--> loads() function takes a string of JSON data and returns a Python Data structure."
   ]
  },
  {
   "cell_type": "markdown",
   "metadata": {},
   "source": [
    "    7. What function takes a Python data structure and returns a string of JSON data?"
   ]
  },
  {
   "cell_type": "markdown",
   "metadata": {},
   "source": [
    "--> dumps() function takes a Python data structure and returns a string of JSON data."
   ]
  }
 ],
 "metadata": {
  "interpreter": {
   "hash": "b3ba2566441a7c06988d0923437866b63cedc61552a5af99d1f4fb67d367b25f"
  },
  "kernelspec": {
   "display_name": "Python 3.9.7 ('base')",
   "language": "python",
   "name": "python3"
  },
  "language_info": {
   "codemirror_mode": {
    "name": "ipython",
    "version": 3
   },
   "file_extension": ".py",
   "mimetype": "text/x-python",
   "name": "python",
   "nbconvert_exporter": "python",
   "pygments_lexer": "ipython3",
   "version": "3.9.7"
  },
  "orig_nbformat": 4
 },
 "nbformat": 4,
 "nbformat_minor": 2
}
