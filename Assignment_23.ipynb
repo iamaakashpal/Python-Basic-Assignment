{
 "cells": [
  {
   "cell_type": "markdown",
   "metadata": {},
   "source": [
    "    1. What is the result of the code, and why?\n",
    "    \n",
    "        def func(a, b=6, c=8):\n",
    "            print(a, b, c)\n",
    "        func(1, 2)"
   ]
  },
  {
   "cell_type": "code",
   "execution_count": 8,
   "metadata": {},
   "outputs": [
    {
     "name": "stdout",
     "output_type": "stream",
     "text": [
      "1 2 8\n"
     ]
    }
   ],
   "source": [
    "def func(a, b=6, c=8):      # Line 1\n",
    "    print(a, b, c)          # Line 2\n",
    "func(1, 2)                  # Line 3"
   ]
  },
  {
   "cell_type": "markdown",
   "metadata": {},
   "source": [
    "--> Explaination :\n",
    "\n",
    "    In Line Number 1, we are creating a function named as func() and passing three argument as a, b=6, c=8 respectively.\n",
    "    In Line Number 2, we are prining the value for a,b and c.\n",
    "    In Line Number 3, we are calling function and passing the value as (1,2).\n",
    "    \n",
    "    The Output for above code is 1 2 8 because variable a = 1 ,b = 2 and c = 8 due to it is (pre defined value).Python function rule says that the updated value will be treated as more valuable than pre defined value."
   ]
  },
  {
   "cell_type": "markdown",
   "metadata": {},
   "source": [
    "    2. What is the result of this code, and why?\n",
    "\n",
    "        def func(a, b, c=5):\n",
    "            print(a, b, c)\n",
    "        func(1, c=3, b=2)"
   ]
  },
  {
   "cell_type": "code",
   "execution_count": 9,
   "metadata": {},
   "outputs": [
    {
     "name": "stdout",
     "output_type": "stream",
     "text": [
      "1 2 3\n"
     ]
    }
   ],
   "source": [
    "def func(a, b, c=5):        # Line 1\n",
    "    print(a, b, c)          # Line 2\n",
    "func(1, c=3, b=2)           # Line 3"
   ]
  },
  {
   "cell_type": "markdown",
   "metadata": {},
   "source": [
    "--> Explaination :\n",
    "\n",
    "    In Line Number 1, we are creating a function named as func() and passing three argument as a, b, c=5 respectively.\n",
    "    In Line Number 2, we are prining the value for a,b and c.\n",
    "    In Line Number 3, we are calling function and passing the value as (1, c=3, b=2).\n",
    "    \n",
    "    The Output for above code is 1 2 3 because variable a = 1 ,b = 2 and c = 3 .Python function rule says that the updated value will be treated as more valuable than pre defined value."
   ]
  },
  {
   "cell_type": "markdown",
   "metadata": {},
   "source": [
    "    3. How about this code: what is its result, and why?\n",
    "\n",
    "        def func(a, *pargs):\n",
    "            print(a, pargs)\n",
    "        func(1, 2, 3)"
   ]
  },
  {
   "cell_type": "code",
   "execution_count": 10,
   "metadata": {},
   "outputs": [
    {
     "name": "stdout",
     "output_type": "stream",
     "text": [
      "1 (2, 3)\n"
     ]
    }
   ],
   "source": [
    "def func(a, *pargs):        # Line 1\n",
    "    print(a, pargs)         # Line 2\n",
    "func(1, 2, 3)               # Line 3"
   ]
  },
  {
   "cell_type": "markdown",
   "metadata": {},
   "source": [
    "--> Explaination :\n",
    "\n",
    "    In Line Number 1, we are creating a function named as func() and passing two argument as a and *pargs(knowns as args which is used to accept 'n' numbers of values and returns a data in tuple) respectively.\n",
    "    In Line Number 2, we are prining the value for a and pargs.\n",
    "    In Line Number 3, we are calling function and passing the value as (1, 2, 3).\n",
    "    \n",
    "    The Output for above code is 1 (2, 3)  because variable a = 1 and pargs = (2,3).Variable a accept only one value at a time and variable *pargs stores multiple value at any time."
   ]
  },
  {
   "cell_type": "markdown",
   "metadata": {},
   "source": [
    "    4. What does this code print, and why?\n",
    "\n",
    "        def func(a, **kargs):\n",
    "            print(a, kargs)\n",
    "        func(a=1, c=3, b=2)"
   ]
  },
  {
   "cell_type": "code",
   "execution_count": 11,
   "metadata": {},
   "outputs": [
    {
     "name": "stdout",
     "output_type": "stream",
     "text": [
      "1 {'c': 3, 'b': 2}\n"
     ]
    }
   ],
   "source": [
    "def func(a, **kargs):       # Line 1\n",
    "    print(a, kargs)         # Line 2\n",
    "func(a=1, c=3, b=2)         # Line 3"
   ]
  },
  {
   "cell_type": "markdown",
   "metadata": {},
   "source": [
    "--> Explaination :\n",
    "\n",
    "    In Line Number 1, we are creating a function named as func() and passing two argument as a and **kargs(knowns as keyword argument which is used to accept 'n' numbers of values in assignment format i.e a = 1 and returns a data in dictionary) respectively.\n",
    "    In Line Number 2, we are prining the value for a and kargs.\n",
    "    In Line Number 3, we are calling function and passing the value as func(a=1, c=3, b=2).\n",
    "    \n",
    "    The Output for above code is 1 {'c': 3, 'b': 2} because variable a = 1 and kargs = {'c': 3, 'b': 2}.Variable a accept only one value at a time and variable **kargs stores multiple value at any time and returns data into dictionary data type."
   ]
  },
  {
   "cell_type": "markdown",
   "metadata": {},
   "source": [
    "    5. What gets printed by this, and explain?\n",
    "    \n",
    "        def func(a, b, c=8, d=5): print(a, b, c, d)\n",
    "        func(1, *(5, 6))"
   ]
  },
  {
   "cell_type": "code",
   "execution_count": 12,
   "metadata": {},
   "outputs": [
    {
     "name": "stdout",
     "output_type": "stream",
     "text": [
      "1 5 6 5\n"
     ]
    }
   ],
   "source": [
    "def func(a, b, c=8, d=5):       # Line 1\n",
    "    print(a, b, c, d)           # Line 2\n",
    "func(1, *(5, 6))                # Line 3"
   ]
  },
  {
   "cell_type": "markdown",
   "metadata": {},
   "source": [
    "--> Explaination :\n",
    "\n",
    "    In Line Number 1, we are creating a function named as func() and passing four argument as a , b, c = 8 and d = 5.\n",
    "    In Line Number 2, we are prining the value for a, b ,c and d.\n",
    "    In Line Number 3, we are calling function and passing the value as func(1, *(5, 6)).\n",
    "    \n",
    "    The Output for above code is 1 5 6 5 because variable a = 1 ,b = 5,c = 6 and d = 5 (pre assignment value)."
   ]
  },
  {
   "cell_type": "markdown",
   "metadata": {},
   "source": [
    "    6. what is the result of this, and explain?\n",
    "\n",
    "        def func(a, b, c): a = 2; b[0] = 'x'; c['a'] = 'y'\n",
    "        l=1; m=[1]; n={'a':0}\n",
    "        func(l, m, n)\n",
    "        l, m, n"
   ]
  },
  {
   "cell_type": "code",
   "execution_count": 13,
   "metadata": {},
   "outputs": [
    {
     "ename": "NameError",
     "evalue": "name 'l' is not defined",
     "output_type": "error",
     "traceback": [
      "\u001b[1;31m---------------------------------------------------------------------------\u001b[0m",
      "\u001b[1;31mNameError\u001b[0m                                 Traceback (most recent call last)",
      "\u001b[1;32mC:\\Users\\ADMINI~1\\AppData\\Local\\Temp/ipykernel_4464/1834126016.py\u001b[0m in \u001b[0;36m<module>\u001b[1;34m\u001b[0m\n\u001b[0;32m      3\u001b[0m     \u001b[0ml\u001b[0m\u001b[1;33m=\u001b[0m\u001b[1;36m1\u001b[0m\u001b[1;33m;\u001b[0m \u001b[0mm\u001b[0m\u001b[1;33m=\u001b[0m\u001b[1;33m[\u001b[0m\u001b[1;36m1\u001b[0m\u001b[1;33m]\u001b[0m\u001b[1;33m;\u001b[0m \u001b[0mn\u001b[0m\u001b[1;33m=\u001b[0m\u001b[1;33m{\u001b[0m\u001b[1;34m'a'\u001b[0m\u001b[1;33m:\u001b[0m\u001b[1;36m0\u001b[0m\u001b[1;33m}\u001b[0m                \u001b[1;31m# Line 3\u001b[0m\u001b[1;33m\u001b[0m\u001b[1;33m\u001b[0m\u001b[0m\n\u001b[0;32m      4\u001b[0m     \u001b[0mfunc\u001b[0m\u001b[1;33m(\u001b[0m\u001b[0ml\u001b[0m\u001b[1;33m,\u001b[0m \u001b[0mm\u001b[0m\u001b[1;33m,\u001b[0m \u001b[0mn\u001b[0m\u001b[1;33m)\u001b[0m                        \u001b[1;31m# Line 4\u001b[0m\u001b[1;33m\u001b[0m\u001b[1;33m\u001b[0m\u001b[0m\n\u001b[1;32m----> 5\u001b[1;33m \u001b[0ml\u001b[0m\u001b[1;33m,\u001b[0m\u001b[0mm\u001b[0m\u001b[1;33m,\u001b[0m\u001b[0mn\u001b[0m                                    \u001b[1;31m# Line 5\u001b[0m\u001b[1;33m\u001b[0m\u001b[1;33m\u001b[0m\u001b[0m\n\u001b[0m",
      "\u001b[1;31mNameError\u001b[0m: name 'l' is not defined"
     ]
    }
   ],
   "source": [
    "def func(a, b, c):                       # Line 1\n",
    "    a = 2; b[0] = 'x'; c['a'] = 'y'      # Line 2\n",
    "    l=1; m=[1]; n={'a':0}                # Line 3\n",
    "    func(l, m, n)                        # Line 4\n",
    "l,m,n                                    # Line 5"
   ]
  },
  {
   "cell_type": "markdown",
   "metadata": {},
   "source": [
    "--> Explaination :\n",
    "\n",
    "    Their will be no output because variable l is not defined and gives error as 'NameError'."
   ]
  }
 ],
 "metadata": {
  "interpreter": {
   "hash": "b3ba2566441a7c06988d0923437866b63cedc61552a5af99d1f4fb67d367b25f"
  },
  "kernelspec": {
   "display_name": "Python 3.9.7 64-bit ('base': conda)",
   "language": "python",
   "name": "python3"
  },
  "language_info": {
   "codemirror_mode": {
    "name": "ipython",
    "version": 3
   },
   "file_extension": ".py",
   "mimetype": "text/x-python",
   "name": "python",
   "nbconvert_exporter": "python",
   "pygments_lexer": "ipython3",
   "version": "3.9.7"
  },
  "orig_nbformat": 4
 },
 "nbformat": 4,
 "nbformat_minor": 2
}
