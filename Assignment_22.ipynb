{
 "cells": [
  {
   "cell_type": "markdown",
   "metadata": {},
   "source": [
    "    1.What is the result of the code, and explain?\n",
    "    \n",
    "    X = 'iNeuron'\n",
    "    def func():  \n",
    "    print(X)     \n",
    "    func()       "
   ]
  },
  {
   "cell_type": "code",
   "execution_count": 59,
   "metadata": {},
   "outputs": [
    {
     "name": "stdout",
     "output_type": "stream",
     "text": [
      "iNeuron\n"
     ]
    }
   ],
   "source": [
    "X = 'iNeuron'   # Line 1\n",
    "def func():     # Line 2\n",
    "    print(X)    # Line 3\n",
    "func()          # Line 4"
   ]
  },
  {
   "cell_type": "markdown",
   "metadata": {},
   "source": [
    "--> Explaination :\n",
    "\n",
    "    In the above code,we have declared a variable name as 'X' and given a string value as 'iNeuron' in the Line number 1. \n",
    "    In Line Number 2, we have created a function name as func().\n",
    "    In Line Number 3, we are printing the value for variable 'X'.\n",
    "    In Line Number 4, we are calling our function by it's name as func().\n",
    "    The Output for the code is 'iNeuron'."
   ]
  },
  {
   "cell_type": "markdown",
   "metadata": {},
   "source": [
    "    2. What is the result of the code, and explain?\n",
    "\n",
    "    X = 'iNeuron'\n",
    "    def func():\n",
    "    X = 'NI!'\n",
    "    func()\n",
    "    print(X)"
   ]
  },
  {
   "cell_type": "code",
   "execution_count": 60,
   "metadata": {},
   "outputs": [
    {
     "name": "stdout",
     "output_type": "stream",
     "text": [
      "iNeuron\n"
     ]
    }
   ],
   "source": [
    "X = 'iNeuron'   # Line 1\n",
    "def func():     # Line 2\n",
    "    X = 'NI!'   # Line 3\n",
    "func()          # Line 4\n",
    "print(X)        # Line 5"
   ]
  },
  {
   "cell_type": "markdown",
   "metadata": {},
   "source": [
    "--> Explaination :\n",
    "\n",
    "    In the above code,we have declared a global variable name as 'X' and given a string value as 'iNeuron' in the Line number 1. \n",
    "    In Line Number 2, we have created a function name as func().\n",
    "    In Line Number 3, we are assigning new string value for variable 'X' which is local variable assignment.\n",
    "    In Line Number 4,we are calling our function by it's name as func().\n",
    "    In Line Number 5,we are printing the value of global variable 'X'.\n",
    "    The Output for the code is 'iNeuron' because their is no print or return statement in our function."
   ]
  },
  {
   "cell_type": "markdown",
   "metadata": {},
   "source": [
    "    3. What does this code print, and why?\n",
    "    \n",
    "    X = 'iNeuron'\n",
    "    def func():\n",
    "    X = 'NI'\n",
    "    print(X)\n",
    "    func()\n",
    "    print(X)"
   ]
  },
  {
   "cell_type": "code",
   "execution_count": 61,
   "metadata": {},
   "outputs": [
    {
     "name": "stdout",
     "output_type": "stream",
     "text": [
      "NI\n",
      "iNeuron\n"
     ]
    }
   ],
   "source": [
    "X = 'iNeuron'   # Line 1\n",
    "def func():     # Line 2\n",
    "    X = 'NI'    # Line 3\n",
    "    print(X)    # Line 4\n",
    "func()          # Line 5\n",
    "print(X)        # Line 6"
   ]
  },
  {
   "cell_type": "markdown",
   "metadata": {},
   "source": [
    "--> Explaination :\n",
    "\n",
    "    In the above code,we have declared a global variable name as 'X' and given a string value as 'iNeuron' in the Line number 1.\n",
    "    In Line Number 2, we have created a function name as func().\n",
    "    In Line Number 3, we are assigning new string value for variable 'X' which is local variable assignment.\n",
    "    In Line Number 4,we are printing the value for variable 'X'.\n",
    "    In Line Number 5,we are calling our function by it's name as func() which will print the new value of variable 'X'.\n",
    "    In Line Number 6,we are printing the value of global variable 'X'.\n",
    "    The Output for the code are 'NI' and 'iNeuron'."
   ]
  },
  {
   "cell_type": "markdown",
   "metadata": {},
   "source": [
    "    4. What output does this code produce? Why?\n",
    "\n",
    "    X = 'iNeuron'\n",
    "    def func():\n",
    "    global X\n",
    "    X = 'NI'\n",
    "    func()\n",
    "    print(X)"
   ]
  },
  {
   "cell_type": "code",
   "execution_count": 62,
   "metadata": {},
   "outputs": [
    {
     "name": "stdout",
     "output_type": "stream",
     "text": [
      "NI\n"
     ]
    }
   ],
   "source": [
    "X = 'iNeuron'   # Line 1\n",
    "def func():     # Line 2\n",
    "    global X    # Line 3\n",
    "    X = 'NI'    # Line 4\n",
    "func()          # Line 5\n",
    "print(X)        # Line 6"
   ]
  },
  {
   "cell_type": "markdown",
   "metadata": {},
   "source": [
    "--> Explaination :\n",
    "\n",
    "    In the above code,we have declared a global variable name as 'X' and given a string value as 'iNeuron' in the Line Number 1.\n",
    "    In Line Number 2, we have created a function name as func().\n",
    "    In Line Number 3, we are assigning variable 'X' as a global variable inside a function.\n",
    "    In Line Number 4,we are assigning new value to variable 'X'.\n",
    "    In Line Number 5,we are calling our function by it's name as func() which will assign new value for variable 'X'.\n",
    "    In Line Number 6,we are printing the value of global variable 'X'.\n",
    "    The Output for the code is 'NI'."
   ]
  },
  {
   "cell_type": "markdown",
   "metadata": {},
   "source": [
    "    5. What about this code—what’s the output, and why?\n",
    "    \n",
    "    X = 'iNeuron'\n",
    "    def func():\n",
    "    X = 'NI'\n",
    "    def nested():\n",
    "    print(X)\n",
    "    nested()\n",
    "    func()\n",
    "    X"
   ]
  },
  {
   "cell_type": "code",
   "execution_count": 63,
   "metadata": {},
   "outputs": [
    {
     "name": "stdout",
     "output_type": "stream",
     "text": [
      "NI\n"
     ]
    },
    {
     "data": {
      "text/plain": [
       "'iNeuron'"
      ]
     },
     "execution_count": 63,
     "metadata": {},
     "output_type": "execute_result"
    }
   ],
   "source": [
    "X = 'iNeuron'       # Line 1\n",
    "def func():         # Line 2\n",
    "    X = 'NI'        # Line 3\n",
    "    def nested():   # Line 4\n",
    "        print(X)    # Line 5\n",
    "    nested()        # Line 6\n",
    "func()              # Line 7\n",
    "X                   # Line 8"
   ]
  },
  {
   "cell_type": "markdown",
   "metadata": {},
   "source": [
    "--> Explaination :\n",
    "\n",
    "    In the above code,we have declared a global variable name as 'X' and given a string value as 'iNeuron' in the Line number 1. \n",
    "    In Line Number 2, we have created a function name as func().\n",
    "    In Line Number 3, we are assigining new string value for variable 'X'.\n",
    "    In Line Number 4,we have created a new function name as nested().\n",
    "    In Line Number 5,we are printing the value for variable 'X'. \n",
    "    In Line Number 6,we are calling our new function by it's name as nested().\n",
    "    In Line Number 7,we are calling our main fuction by it's name as func().\n",
    "    In Line Number 8, we are printing original value for variable 'X'.\n",
    "    The Output for the code are 'NI' and 'iNeuron'."
   ]
  },
  {
   "cell_type": "markdown",
   "metadata": {},
   "source": [
    "    6. How about this code: what is its output in Python 3, and explain?\n",
    "\n",
    "    def func():\n",
    "    X = 'NI'\n",
    "    def nested():\n",
    "    nonlocal X\n",
    "    X = 'Spam'\n",
    "    nested()\n",
    "    print(X)\n",
    "    func()"
   ]
  },
  {
   "cell_type": "code",
   "execution_count": 64,
   "metadata": {},
   "outputs": [
    {
     "name": "stdout",
     "output_type": "stream",
     "text": [
      "Spam\n"
     ]
    }
   ],
   "source": [
    "def func():             # Line 1\n",
    "    X = 'NI'            # Line 2\n",
    "    def nested():       # Line 3\n",
    "        nonlocal X      # Line 4\n",
    "        X = 'Spam'      # Line 5\n",
    "    nested()            # Line 6\n",
    "    print(X)            # Line 7\n",
    "func()                  # Line 8"
   ]
  },
  {
   "cell_type": "markdown",
   "metadata": {},
   "source": [
    "--> Explaination :\n",
    "\n",
    "    In Line Number 1, we have created a function name as func().\n",
    "    In Line Number 2, we have declared a variable name as 'X' and given a string value as 'NI'. \n",
    "    In Line Number 3, we are creating a new function inside func() as nested().\n",
    "    In Line Number 4,we are making variable 'X' as a nonlocal which means it acts as global.\n",
    "    In Line Number 5,we are assigning variable 'X' a new string value.\n",
    "    In Line Number 6,we are calling our function by it's name as nested() which will print the new value of variable 'X'.\n",
    "    In Line Number 7,we are printing the value of variable 'X'.\n",
    "    In Line Number 8, we call our main function by it's name as func().\n",
    "    The Output for the code is 'Spam'."
   ]
  }
 ],
 "metadata": {
  "interpreter": {
   "hash": "b3ba2566441a7c06988d0923437866b63cedc61552a5af99d1f4fb67d367b25f"
  },
  "kernelspec": {
   "display_name": "Python 3.9.7 64-bit ('base': conda)",
   "language": "python",
   "name": "python3"
  },
  "language_info": {
   "codemirror_mode": {
    "name": "ipython",
    "version": 3
   },
   "file_extension": ".py",
   "mimetype": "text/x-python",
   "name": "python",
   "nbconvert_exporter": "python",
   "pygments_lexer": "ipython3",
   "version": "3.9.7"
  },
  "orig_nbformat": 4
 },
 "nbformat": 4,
 "nbformat_minor": 2
}
