{
 "cells": [
  {
   "cell_type": "markdown",
   "metadata": {},
   "source": [
    "    1. Create a list called years_list, starting with the year of your birth, and each year thereafter until\n",
    "    the year of your fifth birthday. For example, if you were born in 1980. the list would be years_list =\n",
    "    [1980, 1981, 1982, 1983, 1984, 1985]."
   ]
  },
  {
   "cell_type": "code",
   "execution_count": 2,
   "metadata": {},
   "outputs": [
    {
     "name": "stdout",
     "output_type": "stream",
     "text": [
      "Your Year of Birth : 1980\n",
      "years_list =  [1980, 1981, 1982, 1983, 1984, 1985]\n"
     ]
    }
   ],
   "source": [
    "dob=int(input(\"Enter Year of Birth : \"))\n",
    "print(\"Your Year of Birth :\",dob)\n",
    "years_list=[]\n",
    "years_list.append(dob)\n",
    "for i in range(5):\n",
    "    dob=dob+1\n",
    "    years_list.append(dob)\n",
    "print(\"years_list = \",years_list)"
   ]
  },
  {
   "cell_type": "markdown",
   "metadata": {},
   "source": [
    "    2. In which year in years_list was your third birthday? Remember, you were 0 years of age for your\n",
    "    first year."
   ]
  },
  {
   "cell_type": "code",
   "execution_count": 5,
   "metadata": {},
   "outputs": [
    {
     "name": "stdout",
     "output_type": "stream",
     "text": [
      "Your birth year after 3 years will be : 1983\n"
     ]
    }
   ],
   "source": [
    "num=int(input(\"Enter a Number to Check your Birth year for n years : \"))\n",
    "print(\"Your birth year after\",num,\"years will be :\",years_list[num])"
   ]
  },
  {
   "cell_type": "markdown",
   "metadata": {},
   "source": [
    "    3.In the years list, which year were you the oldest?"
   ]
  },
  {
   "cell_type": "code",
   "execution_count": 6,
   "metadata": {},
   "outputs": [
    {
     "name": "stdout",
     "output_type": "stream",
     "text": [
      "Year You will be oldest in the years_list : 1985\n"
     ]
    }
   ],
   "source": [
    "print('Year You will be oldest in the years_list :',years_list[-1])"
   ]
  },
  {
   "cell_type": "markdown",
   "metadata": {},
   "source": [
    "    4. Make a list called things with these three strings as elements: \"mozzarella\", \"cinderella\",\"salmonella\"."
   ]
  },
  {
   "cell_type": "code",
   "execution_count": 8,
   "metadata": {},
   "outputs": [
    {
     "name": "stdout",
     "output_type": "stream",
     "text": [
      "things = ['mozzarella', 'cinderella', 'salmonella']\n"
     ]
    }
   ],
   "source": [
    "things=[\"mozzarella\", \"cinderella\",\"salmonella\"]\n",
    "print(\"things =\",things)"
   ]
  },
  {
   "cell_type": "markdown",
   "metadata": {},
   "source": [
    "    5. Capitalize the element in things that refers to a person and then print the list. Did it change the element in the list?"
   ]
  },
  {
   "cell_type": "code",
   "execution_count": 13,
   "metadata": {},
   "outputs": [
    {
     "name": "stdout",
     "output_type": "stream",
     "text": [
      "things = ['mozzarella', 'cinderella', 'salmonella']\n",
      "Capitalizing the element that refers to a person in things list : CINDERELLA\n"
     ]
    }
   ],
   "source": [
    "things=[\"mozzarella\", \"cinderella\",\"salmonella\"]\n",
    "print(\"things =\",things)\n",
    "print(\"Capitalizing the element that refers to a person in things list :\",things[1].upper())"
   ]
  },
  {
   "cell_type": "code",
   "execution_count": 12,
   "metadata": {},
   "outputs": [
    {
     "name": "stdout",
     "output_type": "stream",
     "text": [
      "things = ['mozzarella', 'cinderella', 'salmonella']\n"
     ]
    }
   ],
   "source": [
    "print(\"things =\",things)"
   ]
  },
  {
   "cell_type": "markdown",
   "metadata": {},
   "source": [
    "--> No,the element in the list are not changed."
   ]
  },
  {
   "cell_type": "markdown",
   "metadata": {},
   "source": [
    "    6. Make a surprise list with the elements \"Groucho,\" \"Chico,\" and \"Harpo.\""
   ]
  },
  {
   "cell_type": "code",
   "execution_count": 14,
   "metadata": {},
   "outputs": [
    {
     "name": "stdout",
     "output_type": "stream",
     "text": [
      "surprise =  ['Groucho,', 'Chico,', 'Harpo.']\n"
     ]
    }
   ],
   "source": [
    "surprise=[\"Groucho,\",\"Chico,\",\"Harpo.\"]\n",
    "print(\"surprise = \",surprise)"
   ]
  },
  {
   "cell_type": "markdown",
   "metadata": {},
   "source": [
    "    7. Lowercase the last element of the surprise list, reverse it, and then capitalize it."
   ]
  },
  {
   "cell_type": "code",
   "execution_count": 26,
   "metadata": {},
   "outputs": [
    {
     "name": "stdout",
     "output_type": "stream",
     "text": [
      "surprise =  ['Groucho,', 'Chico,', 'Harpo.']\n",
      "Lowercase last element : harpo.\n",
      "Reversed last element : .opraH\n",
      "Capitalize last element : HARPO.\n",
      "\n",
      "The last element of surprise list after Lowercase, Reverse and Capitalizing is: .OPRAH\n"
     ]
    }
   ],
   "source": [
    "surprise=[\"Groucho,\",\"Chico,\",\"Harpo.\"]\n",
    "print(\"surprise = \",surprise)\n",
    "\n",
    "# Solution 1\n",
    "\n",
    "print(\"Lowercase last element :\",surprise[-1].lower())\n",
    "print(\"Reversed last element :\",surprise[-1][::-1])\n",
    "print(\"Capitalize last element :\",surprise[-1].upper())\n",
    "\n",
    "# Solution 2\n",
    "\n",
    "a = surprise[-1].lower()\n",
    "print()\n",
    "print(\"The last element of surprise list after Lowercase, Reverse and Capitalizing is:\",a[::-1].upper())\n"
   ]
  },
  {
   "cell_type": "markdown",
   "metadata": {},
   "source": [
    "    8. Make an English-to-French dictionary called e2f and print it. Here are your starter words: dog is\n",
    "    chien, cat is chat, and walrus is morse."
   ]
  },
  {
   "cell_type": "code",
   "execution_count": 28,
   "metadata": {},
   "outputs": [
    {
     "name": "stdout",
     "output_type": "stream",
     "text": [
      "The English-to-French dictionary called e2f is : {'dog': 'chien', 'cat': 'chat', 'walrus': 'morse'}\n"
     ]
    }
   ],
   "source": [
    "e2f = {'dog':'chien' , 'cat':'chat' , 'walrus':'morse'}\n",
    "print(\"The English-to-French dictionary called e2f is :\",e2f)"
   ]
  },
  {
   "cell_type": "markdown",
   "metadata": {},
   "source": [
    "    9. Write the French word for walrus in your three-word dictionary e2f."
   ]
  },
  {
   "cell_type": "code",
   "execution_count": 29,
   "metadata": {},
   "outputs": [
    {
     "name": "stdout",
     "output_type": "stream",
     "text": [
      "The French word for walrus is : morse\n"
     ]
    }
   ],
   "source": [
    "# e2f = {'dog':'chien' , 'cat':'chat' , 'walrus':'morse'}\n",
    "\n",
    "print(\"The French word for walrus is :\",e2f[\"walrus\"])"
   ]
  },
  {
   "cell_type": "markdown",
   "metadata": {},
   "source": [
    "    10. Make a French-to-English dictionary called f2e from e2f. Use the items method."
   ]
  },
  {
   "cell_type": "code",
   "execution_count": 32,
   "metadata": {},
   "outputs": [
    {
     "name": "stdout",
     "output_type": "stream",
     "text": [
      "The French-to-English dictionary called e2f is : {'chien': 'dog', 'chat': 'cat', 'morse': 'walrus'}\n"
     ]
    }
   ],
   "source": [
    "f2e = {}\n",
    "for v,k in e2f.items():\n",
    "    f2e[k] = v\n",
    "print(\"The French-to-English dictionary called e2f is :\",f2e)"
   ]
  },
  {
   "cell_type": "markdown",
   "metadata": {},
   "source": [
    "    11. Print the English version of the French word chien using f2e."
   ]
  },
  {
   "cell_type": "code",
   "execution_count": 33,
   "metadata": {},
   "outputs": [
    {
     "name": "stdout",
     "output_type": "stream",
     "text": [
      "The English word for chien is : dog\n"
     ]
    }
   ],
   "source": [
    "print(\"The English word for chien is :\",f2e['chien'])"
   ]
  },
  {
   "cell_type": "markdown",
   "metadata": {},
   "source": [
    "    12. Make and print a set of English words from the keys in e2f"
   ]
  },
  {
   "cell_type": "code",
   "execution_count": 37,
   "metadata": {},
   "outputs": [
    {
     "name": "stdout",
     "output_type": "stream",
     "text": [
      "English Words in e2f Dictionary :  {'walrus', 'dog', 'cat'}\n"
     ]
    }
   ],
   "source": [
    "print(\"English Words in e2f Dictionary : \",set(e2f.keys()))"
   ]
  },
  {
   "cell_type": "markdown",
   "metadata": {},
   "source": [
    "    13. Make a multilevel dictionary called life. Use these strings for the topmost keys: 'animals', 'plants',\n",
    "    and 'other'. Make the 'animals' key refer to another dictionary with the keys 'cats', 'octopi', and\n",
    "    'emus'. Make the 'cats' key refer to a list of strings with the values 'Henri', 'Grumpy', and 'Lucy'.\n",
    "    Make all the other keys refer to empty dictionaries."
   ]
  },
  {
   "cell_type": "code",
   "execution_count": 43,
   "metadata": {},
   "outputs": [
    {
     "name": "stdout",
     "output_type": "stream",
     "text": [
      "The life dictionary is : {'animals': {'cats': ['Henri', 'Grumpy', 'Lucy'], 'octopi': '', 'emus': ''}, 'plants': '', 'other': ''}\n"
     ]
    }
   ],
   "source": [
    "life = {'animals': {'cats': ['Henri', 'Grumpy', 'Lucy'],'octopi': '','emus': '',},\n",
    "    'plants': '',\n",
    "    'other': ''\n",
    "    }\n",
    "print(\"The life dictionary is :\",life)"
   ]
  },
  {
   "cell_type": "markdown",
   "metadata": {},
   "source": [
    "    14. Print the top-level keys of life."
   ]
  },
  {
   "cell_type": "code",
   "execution_count": 46,
   "metadata": {},
   "outputs": [
    {
     "name": "stdout",
     "output_type": "stream",
     "text": [
      "The top-level keys of life dictionary : ['animals', 'plants', 'other']\n"
     ]
    }
   ],
   "source": [
    "print(\"The top-level keys of life dictionary :\",list(life.keys()))"
   ]
  },
  {
   "cell_type": "markdown",
   "metadata": {},
   "source": [
    "    15. Print the keys for life['animals']."
   ]
  },
  {
   "cell_type": "code",
   "execution_count": 47,
   "metadata": {},
   "outputs": [
    {
     "name": "stdout",
     "output_type": "stream",
     "text": [
      "The top-level keys of life dictionary : ['cats', 'octopi', 'emus']\n"
     ]
    }
   ],
   "source": [
    "print(\"The top-level keys of life dictionary :\",list(life[\"animals\"].keys()))"
   ]
  },
  {
   "cell_type": "markdown",
   "metadata": {},
   "source": [
    "    16. Print the values for life['animals']['cats']"
   ]
  },
  {
   "cell_type": "code",
   "execution_count": 52,
   "metadata": {},
   "outputs": [
    {
     "name": "stdout",
     "output_type": "stream",
     "text": [
      "The values for life['animals']['cats']  :  ['Henri', 'Grumpy', 'Lucy']\n"
     ]
    }
   ],
   "source": [
    "print(\"The values for life['animals']['cats']  : \",list(life['animals']['cats']))"
   ]
  }
 ],
 "metadata": {
  "interpreter": {
   "hash": "b3ba2566441a7c06988d0923437866b63cedc61552a5af99d1f4fb67d367b25f"
  },
  "kernelspec": {
   "display_name": "Python 3.9.7 64-bit ('base': conda)",
   "language": "python",
   "name": "python3"
  },
  "language_info": {
   "codemirror_mode": {
    "name": "ipython",
    "version": 3
   },
   "file_extension": ".py",
   "mimetype": "text/x-python",
   "name": "python",
   "nbconvert_exporter": "python",
   "pygments_lexer": "ipython3",
   "version": "3.9.7"
  },
  "orig_nbformat": 4
 },
 "nbformat": 4,
 "nbformat_minor": 2
}
