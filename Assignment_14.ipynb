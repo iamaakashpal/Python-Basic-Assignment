{
 "cells": [
  {
   "cell_type": "markdown",
   "metadata": {},
   "source": [
    "    1. What does RGBA stand for?"
   ]
  },
  {
   "cell_type": "markdown",
   "metadata": {},
   "source": [
    "--> RGBA is the updated version of RGB where RGBA stands for Red, Green, Blue, Alpha.\n",
    "\n",
    "--> Alpha is used for opacity of the color and having range from 0 to 1, 0 means fully transparent and 1 means opaque."
   ]
  },
  {
   "cell_type": "markdown",
   "metadata": {},
   "source": [
    "    2. From the Pillow module, how do you get the RGBA value of any images?"
   ]
  },
  {
   "cell_type": "markdown",
   "metadata": {},
   "source": [
    "--> The pillow library has the ImageColor.getcolor() method so we don’t have to remember the RGBA values. \n",
    "\n",
    "--> RGBA function takes first argument as a color name and the second argument as a 'RGBA' string which returns a RGBA tuple."
   ]
  },
  {
   "cell_type": "markdown",
   "metadata": {},
   "source": [
    "    3. What is a box tuple, and how does it work?"
   ]
  },
  {
   "cell_type": "markdown",
   "metadata": {},
   "source": [
    "--> The box.tuple module provides read only access for the tuple data type.\n",
    "\n",
    "--> Box tuple module allows for a single tuple: selective retrieval of the field contents, retrieval of information about size, iteration over all the fields, and conversion to a Lua table."
   ]
  },
  {
   "cell_type": "markdown",
   "metadata": {},
   "source": [
    "    4. Use your image and load in notebook then, How can you find out the width and height of an Image object?"
   ]
  },
  {
   "cell_type": "code",
   "execution_count": 16,
   "metadata": {},
   "outputs": [
    {
     "data": {
      "text/plain": [
       "<matplotlib.image.AxesImage at 0x1ffdf288c40>"
      ]
     },
     "execution_count": 16,
     "metadata": {},
     "output_type": "execute_result"
    },
    {
     "data": {
      "image/png": "[encoded data removed]",
      "text/plain": [
       "<Figure size 432x288 with 1 Axes>"
      ]
     },
     "metadata": {
      "needs_background": "light"
     },
     "output_type": "display_data"
    }
   ],
   "source": [
    "import matplotlib.image as mpimg\n",
    "import matplotlib.pyplot as plt\n",
    "\n",
    "img = mpimg.imread('download.png')\n",
    "plt.imshow(img)\n"
   ]
  },
  {
   "cell_type": "code",
   "execution_count": 17,
   "metadata": {},
   "outputs": [
    {
     "name": "stdout",
     "output_type": "stream",
     "text": [
      "The height of the image is:  117\n",
      "The width of the image is:  430\n"
     ]
    }
   ],
   "source": [
    "# Image Url = https://www.google.com/search?q=ineuron&sxsrf=APq-WBvc0XrfcWKd8pOshc3HlsOjlDco6w:1648712538010&source=lnms&tbm=isch&sa=X&ved=2ahUKEwjTmKjp7O_2AhUKm1YBHYj2D4gQ_AUoAnoECAIQBA&biw=1536&bih=758&dpr=1.25#imgrc=wFLgzCZ8QWZGhM\n",
    "\n",
    "from PIL import Image\n",
    "\n",
    "file = \"download.png\"\n",
    "img = Image.open(file)\n",
    "\n",
    "width = img.width\n",
    "height = img.height\n",
    "\n",
    "print(\"The height of the image is: \", height)\n",
    "print(\"The width of the image is: \", width)"
   ]
  },
  {
   "cell_type": "markdown",
   "metadata": {},
   "source": [
    "    5. What method would you call to get Image object for a 100×100 image, excluding the lower-left quarter of it?"
   ]
  },
  {
   "cell_type": "markdown",
   "metadata": {},
   "source": [
    "--> To get image object for a 100x100 we will use crop function."
   ]
  },
  {
   "cell_type": "markdown",
   "metadata": {},
   "source": [
    "    6. After making changes to an Image object, how could you save it as an image file?"
   ]
  },
  {
   "cell_type": "markdown",
   "metadata": {},
   "source": [
    "--> To save image file we will use Image.save() function."
   ]
  },
  {
   "cell_type": "markdown",
   "metadata": {},
   "source": [
    "    7. What module contains Pillow’s shape-drawing code?    "
   ]
  },
  {
   "cell_type": "markdown",
   "metadata": {},
   "source": [
    "--> The ImageDraw module contains pillow shape drawing code."
   ]
  },
  {
   "cell_type": "markdown",
   "metadata": {},
   "source": [
    "    8. Image objects do not have drawing methods. What kind of object does? How do you get this kind of object?"
   ]
  },
  {
   "cell_type": "markdown",
   "metadata": {},
   "source": [
    "--> To draw a shape, we can use a GeometryDrawing. A geometry drawing's Geometry property describes the shape to draw, it has a Brush property describes how the interior of the shape should be painted, and its Pen property describes how its outline should be drawn."
   ]
  }
 ],
 "metadata": {
  "interpreter": {
   "hash": "b3ba2566441a7c06988d0923437866b63cedc61552a5af99d1f4fb67d367b25f"
  },
  "kernelspec": {
   "display_name": "Python 3.9.7 ('base')",
   "language": "python",
   "name": "python3"
  },
  "language_info": {
   "codemirror_mode": {
    "name": "ipython",
    "version": 3
   },
   "file_extension": ".py",
   "mimetype": "text/x-python",
   "name": "python",
   "nbconvert_exporter": "python",
   "pygments_lexer": "ipython3",
   "version": "3.9.7"
  },
  "orig_nbformat": 4
 },
 "nbformat": 4,
 "nbformat_minor": 2
}
