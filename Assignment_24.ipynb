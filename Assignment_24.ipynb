{
 "cells": [
  {
   "cell_type": "markdown",
   "metadata": {},
   "source": [
    "    1. What is the relationship between def statements and lambda expressions ?"
   ]
  },
  {
   "cell_type": "markdown",
   "metadata": {},
   "source": [
    "--> The difference between def statements and lambda expressions is that the body of a lambda can consist of only a single expression, the result of which is returned from the function created and lambda expression is an expression which evaluates to a function object, while a def statement has no value, and creates a function object."
   ]
  },
  {
   "cell_type": "markdown",
   "metadata": {},
   "source": [
    "    2. What is the benefit of lambda?"
   ]
  },
  {
   "cell_type": "markdown",
   "metadata": {},
   "source": [
    "--> The lambda keyword in Python provides a shortcut for declaring small anonymous functions.\n",
    "\n",
    "--> Lambda functions behave just like regular functions declared with the def keyword."
   ]
  },
  {
   "cell_type": "markdown",
   "metadata": {},
   "source": [
    "    3. Compare and contrast map, filter, and reduce."
   ]
  },
  {
   "cell_type": "markdown",
   "metadata": {},
   "source": [
    "--> i. map\n",
    "\n",
    "        The map() function iterates through all items in the given iterable and executes the function which we passed as an argument on each of them.\n",
    "\n",
    "        Example :-"
   ]
  },
  {
   "cell_type": "code",
   "execution_count": 5,
   "metadata": {},
   "outputs": [
    {
     "name": "stdout",
     "output_type": "stream",
     "text": [
      "[False, True, False, True, False]\n"
     ]
    }
   ],
   "source": [
    "def maptest(a):\n",
    "    return a[0] == \"J\"\n",
    "\n",
    "Place = [\"Andheri\", \"Jogeshwari\", \"Goregoan\", \"Jalandhar\", \"Malad\"]\n",
    "b = map(maptest, Place)\n",
    "\n",
    "print(list(b))"
   ]
  },
  {
   "cell_type": "markdown",
   "metadata": {},
   "source": [
    "--> ii.filter\n",
    "\n",
    "        The filter() function is similir to map() function but the difference is that map() function gives output in boolean datatype where as filter() function gives the data which satisfy the given condition.\n",
    "\n",
    "        Example :-"
   ]
  },
  {
   "cell_type": "code",
   "execution_count": 6,
   "metadata": {},
   "outputs": [
    {
     "name": "stdout",
     "output_type": "stream",
     "text": [
      "['Jogeshwari', 'Jalandhar']\n"
     ]
    }
   ],
   "source": [
    "def maptest(a):\n",
    "    return a[0] == \"J\"\n",
    "\n",
    "Place = [\"Andheri\", \"Jogeshwari\", \"Goregoan\", \"Jalandhar\", \"Malad\"]\n",
    "b = filter(maptest, Place)\n",
    "\n",
    "print(list(b))"
   ]
  },
  {
   "cell_type": "markdown",
   "metadata": {},
   "source": [
    "--> iii.reduce\n",
    "\n",
    "        - The reduce() is different from map() and filter() function.\n",
    "        - The reduce() function returns a single value."
   ]
  },
  {
   "cell_type": "code",
   "execution_count": 16,
   "metadata": {},
   "outputs": [
    {
     "name": "stdout",
     "output_type": "stream",
     "text": [
      "6\n"
     ]
    }
   ],
   "source": [
    "from functools import reduce\n",
    "def mul(a,b):\n",
    "    return a*b\n",
    "l = [1,2,3]\n",
    "print(reduce(mul, l))"
   ]
  },
  {
   "cell_type": "markdown",
   "metadata": {},
   "source": [
    "    4. What are function annotations, and how are they used?"
   ]
  },
  {
   "cell_type": "markdown",
   "metadata": {},
   "source": [
    "    --> Function annotations are arbitrary python expressions that are associated with various part of functions. \n",
    "    --> This expressions are evaluated at compile time."
   ]
  },
  {
   "cell_type": "markdown",
   "metadata": {},
   "source": [
    "    5. What are recursive functions, and how are they used?"
   ]
  },
  {
   "cell_type": "markdown",
   "metadata": {},
   "source": [
    "    --> Recursive functions are the functions which calls itself.\n",
    "    --> It is made up of 2 part, the base part and the recursive part.The base part is the condition to stop the recursion.The recursive part is the part where the function calls it itself.\n",
    "\n",
    "    Example :-"
   ]
  },
  {
   "cell_type": "code",
   "execution_count": 19,
   "metadata": {},
   "outputs": [
    {
     "name": "stdout",
     "output_type": "stream",
     "text": [
      "Factorial of 7 is 5040\n"
     ]
    }
   ],
   "source": [
    "def factorial(num):\n",
    "    fact=1\n",
    "    for i in range(1,num+1):\n",
    "        fact=fact*i\n",
    "    return print(\"Factorial of\",num,\"is\",fact)\n",
    "\n",
    "factorial(7)"
   ]
  },
  {
   "cell_type": "markdown",
   "metadata": {},
   "source": [
    "    6. What are some general design guidelines for coding functions?"
   ]
  },
  {
   "cell_type": "markdown",
   "metadata": {},
   "source": [
    "--> Make use docstrings :- docstrings is used to provide information about your function.\n",
    "\n",
    "--> Naming Conventions : Naming Conventions that should be followed in order to make the program less complex and more readable.\n",
    "\n",
    "--> Wrap lines so that they don’t exceed 79 characters : The Python standard library is conservative and requires limiting lines to 79 characters. The lines can be wrapped using parenthesis, brackets, and braces. They should be used in preference to backslashes\n",
    "\n",
    "--> Use Python’s default UTF-8 or ASCII encodings and not any fancy encodings, if it is meant for international environment.\n",
    "\n",
    "--> Make use of spaces around operators and after commas, but not directly inside bracketing constructs."
   ]
  },
  {
   "cell_type": "markdown",
   "metadata": {},
   "source": [
    "    7. Name three or more ways that functions can communicate results to a caller."
   ]
  },
  {
   "cell_type": "markdown",
   "metadata": {},
   "source": [
    "--> Function Call.\n",
    "\n",
    "--> Indentation.\n",
    "\n",
    "--> Arguments.\n",
    "\n",
    "--> Return Values."
   ]
  }
 ],
 "metadata": {
  "interpreter": {
   "hash": "b3ba2566441a7c06988d0923437866b63cedc61552a5af99d1f4fb67d367b25f"
  },
  "kernelspec": {
   "display_name": "Python 3.9.7 64-bit ('base': conda)",
   "language": "python",
   "name": "python3"
  },
  "language_info": {
   "codemirror_mode": {
    "name": "ipython",
    "version": 3
   },
   "file_extension": ".py",
   "mimetype": "text/x-python",
   "name": "python",
   "nbconvert_exporter": "python",
   "pygments_lexer": "ipython3",
   "version": "3.9.7"
  },
  "orig_nbformat": 4
 },
 "nbformat": 4,
 "nbformat_minor": 2
}
