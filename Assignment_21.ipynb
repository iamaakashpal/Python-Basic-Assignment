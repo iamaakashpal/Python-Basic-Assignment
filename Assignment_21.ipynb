{
 "cells": [
  {
   "cell_type": "markdown",
   "metadata": {},
   "source": [
    "    1. Add the current date to the text file today.txt as a string."
   ]
  },
  {
   "cell_type": "code",
   "execution_count": 26,
   "metadata": {},
   "outputs": [],
   "source": [
    "import datetime\n",
    "a = datetime.datetime.now()\n",
    "b = str(a)\n",
    "c = open('today.txt','w+')\n",
    "c.write(str(\"Current Date and Time :\") + b + str(\"\\n\"))\n",
    "c.close()"
   ]
  },
  {
   "cell_type": "markdown",
   "metadata": {},
   "source": [
    "    2. Read the text file today.txt into the string today_string"
   ]
  },
  {
   "cell_type": "code",
   "execution_count": 27,
   "metadata": {},
   "outputs": [
    {
     "name": "stdout",
     "output_type": "stream",
     "text": [
      "Current Date and Time :2022-01-26 21:05:49.080740\n",
      "\n"
     ]
    }
   ],
   "source": [
    "today_string = open(\"today.txt\",\"r+\")\n",
    "print(today_string.read())\n",
    "today_string.close()"
   ]
  },
  {
   "cell_type": "markdown",
   "metadata": {},
   "source": [
    "    3. Parse the date from today_string."
   ]
  },
  {
   "cell_type": "code",
   "execution_count": 30,
   "metadata": {},
   "outputs": [
    {
     "name": "stdout",
     "output_type": "stream",
     "text": [
      "Today's Date is : 2022-01-26\n"
     ]
    }
   ],
   "source": [
    "import datetime\n",
    "today_string = datetime.date.today()\n",
    "print(\"Today's Date is :\",today_string)"
   ]
  },
  {
   "cell_type": "markdown",
   "metadata": {},
   "source": [
    "    4. List the files in your current directory"
   ]
  },
  {
   "cell_type": "code",
   "execution_count": 31,
   "metadata": {},
   "outputs": [
    {
     "name": "stdout",
     "output_type": "stream",
     "text": [
      " Volume in drive D is LENOVO\n",
      " Volume Serial Number is BCB4-6C99\n",
      "\n",
      " Directory of d:\\INEURON\\PYTHON\\Online Assignment Submit\\1 Python Basic Assignment\n",
      "\n",
      "26-Jan-2022  08:53 PM    <DIR>          .\n",
      "26-Jan-2022  08:53 PM    <DIR>          ..\n",
      "03-Dec-2021  04:03 PM            10,061 Assignment_1.docx\n",
      "08-Dec-2021  11:06 AM            12,998 Assignment_1.ipynb\n",
      "12-Jan-2022  02:04 PM             9,234 Assignment_10.docx\n",
      "24-Jan-2022  12:15 PM             3,415 Assignment_10.ipynb\n",
      "12-Jan-2022  02:04 PM             9,459 Assignment_11.docx\n",
      "25-Jan-2022  02:07 PM             3,030 Assignment_11.ipynb\n",
      "12-Jan-2022  02:05 PM             9,446 Assignment_12.docx\n",
      "24-Jan-2022  07:42 PM             2,209 Assignment_12.ipynb\n",
      "12-Jan-2022  02:05 PM             9,183 Assignment_13.docx\n",
      "24-Jan-2022  07:47 PM             1,285 Assignment_13.ipynb\n",
      "12-Jan-2022  02:05 PM             9,284 Assignment_14.docx\n",
      "24-Jan-2022  07:49 PM             1,447 Assignment_14.ipynb\n",
      "12-Jan-2022  02:05 PM             9,381 Assignment_15.docx\n",
      "24-Jan-2022  07:52 PM             1,672 Assignment_15.ipynb\n",
      "12-Jan-2022  02:05 PM             9,819 Assignment_16.docx\n",
      "25-Jan-2022  01:31 PM            11,527 Assignment_16.ipynb\n",
      "12-Jan-2022  02:05 PM             9,708 Assignment_17.docx\n",
      "26-Jan-2022  08:53 PM             4,638 Assignment_17.ipynb\n",
      "26-Jan-2022  07:44 PM    <DIR>          Assignment_18\n",
      "12-Jan-2022  02:05 PM             9,326 Assignment_18.docx\n",
      "26-Jan-2022  08:19 PM             4,659 Assignment_18.ipynb\n",
      "26-Jan-2022  08:21 PM             1,377 Assignment_18.zip\n",
      "12-Jan-2022  02:05 PM             9,785 Assignment_19.docx\n",
      "24-Jan-2022  08:09 PM             3,100 Assignment_19.ipynb\n",
      "19-Dec-2021  12:57 PM             9,806 Assignment_2.docx\n",
      "25-Dec-2021  05:07 PM            14,235 Assignment_2.ipynb\n",
      "12-Jan-2022  02:06 PM             9,663 Assignment_20.docx\n",
      "24-Jan-2022  08:13 PM             2,426 Assignment_20.ipynb\n",
      "12-Jan-2022  02:06 PM             9,273 Assignment_21.docx\n",
      "26-Jan-2022  09:08 PM             3,779 Assignment_21.ipynb\n",
      "12-Jan-2022  02:06 PM             9,791 Assignment_22.docx\n",
      "17-Jan-2022  02:11 PM             9,759 Assignment_22.ipynb\n",
      "12-Jan-2022  02:06 PM             9,008 Assignment_23.docx\n",
      "17-Jan-2022  10:31 PM             9,527 Assignment_23.ipynb\n",
      "12-Jan-2022  02:06 PM             9,155 Assignment_24.docx\n",
      "26-Jan-2022  01:23 PM             6,686 Assignment_24.ipynb\n",
      "12-Jan-2022  02:06 PM             9,100 Assignment_25.docx\n",
      "15-Jan-2022  04:44 PM             6,208 Assignment_25.ipynb\n",
      "25-Dec-2021  05:41 PM             9,452 Assignment_3.docx\n",
      "04-Jan-2022  01:58 PM             5,490 Assignment_3.ipynb\n",
      "30-Dec-2021  12:49 PM             9,626 Assignment_4.docx\n",
      "05-Jan-2022  01:24 PM            12,923 Assignment_4.ipynb\n",
      "30-Dec-2021  12:49 PM             9,288 Assignment_5.docx\n",
      "31-Dec-2021  09:18 PM             6,276 Assignment_5.ipynb\n",
      "06-Jan-2022  02:03 PM             9,462 Assignment_6.docx\n",
      "06-Jan-2022  10:37 PM            10,917 Assignment_6.ipynb\n",
      "12-Jan-2022  02:03 PM            10,472 Assignment_7.docx\n",
      "25-Dec-2021  05:40 PM               141 Assignment_7.ipynb\n",
      "12-Jan-2022  02:03 PM             9,208 Assignment_8.docx\n",
      "24-Jan-2022  11:37 AM             2,832 Assignment_8.ipynb\n",
      "11-Jan-2022  09:30 PM             9,273 Assignment_9.docx\n",
      "11-Jan-2022  10:24 PM             3,132 Assignment_9.ipynb\n",
      "26-Jan-2022  09:05 PM                51 today.txt\n",
      "              52 File(s)        383,002 bytes\n",
      "               3 Dir(s)  25,415,094,272 bytes free\n"
     ]
    }
   ],
   "source": [
    "ls"
   ]
  },
  {
   "cell_type": "markdown",
   "metadata": {},
   "source": [
    "    5. Create a list of all of the files in your parent directory (minimum five files should be available)."
   ]
  },
  {
   "cell_type": "code",
   "execution_count": 40,
   "metadata": {},
   "outputs": [
    {
     "name": "stdout",
     "output_type": "stream",
     "text": [
      "Assignment_1.docx\n",
      "Assignment_1.ipynb\n",
      "Assignment_10.docx\n",
      "Assignment_10.ipynb\n",
      "Assignment_11.docx\n",
      "Assignment_11.ipynb\n",
      "Assignment_12.docx\n",
      "Assignment_12.ipynb\n",
      "Assignment_13.docx\n",
      "Assignment_13.ipynb\n",
      "Assignment_14.docx\n",
      "Assignment_14.ipynb\n",
      "Assignment_15.docx\n",
      "Assignment_15.ipynb\n",
      "Assignment_16.docx\n",
      "Assignment_16.ipynb\n",
      "Assignment_17.docx\n",
      "Assignment_17.ipynb\n",
      "Assignment_18.docx\n",
      "Assignment_18.ipynb\n",
      "Assignment_18.zip\n",
      "Assignment_19.docx\n",
      "Assignment_19.ipynb\n",
      "Assignment_2.docx\n",
      "Assignment_2.ipynb\n",
      "Assignment_20.docx\n",
      "Assignment_20.ipynb\n",
      "Assignment_21.docx\n",
      "Assignment_21.ipynb\n",
      "Assignment_22.docx\n",
      "Assignment_22.ipynb\n",
      "Assignment_23.docx\n",
      "Assignment_23.ipynb\n",
      "Assignment_24.docx\n",
      "Assignment_24.ipynb\n",
      "Assignment_25.docx\n",
      "Assignment_25.ipynb\n",
      "Assignment_3.docx\n",
      "Assignment_3.ipynb\n",
      "Assignment_4.docx\n",
      "Assignment_4.ipynb\n",
      "Assignment_5.docx\n",
      "Assignment_5.ipynb\n",
      "Assignment_6.docx\n",
      "Assignment_6.ipynb\n",
      "Assignment_7.docx\n",
      "Assignment_7.ipynb\n",
      "Assignment_8.docx\n",
      "Assignment_8.ipynb\n",
      "Assignment_9.docx\n",
      "Assignment_9.ipynb\n",
      "today.txt\n",
      "Assignment_18.ipynb\n",
      "zoo.py\n",
      "zoo.cpython-39.pyc\n"
     ]
    }
   ],
   "source": [
    "import os\n",
    "\n",
    "for root, dirs, files in os.walk(\".\"):\n",
    "    for i in files:\n",
    "        print(i)"
   ]
  },
  {
   "cell_type": "markdown",
   "metadata": {},
   "source": [
    "    6. Use multiprocessing to create three separate processes. Make each one wait a random number of\n",
    "    seconds between one and five, print the current time, and then exit."
   ]
  },
  {
   "cell_type": "code",
   "execution_count": 56,
   "metadata": {},
   "outputs": [],
   "source": [
    "import multiprocessing as mp\n",
    "import collections\n",
    "Msg = collections.namedtuple('Msg', ['event', 'args'])\n",
    "class BaseProcess(mp.Process):\n",
    "    \"\"\"A process backed by an internal queue for simple one-way message passing.\n",
    "    \"\"\"\n",
    "    def __init__(self, *args, **kwargs):\n",
    "        super().__init__(*args, **kwargs)\n",
    "        self.queue = mp.Queue()\n",
    "\n",
    "    def send(self, event, *args):\n",
    "        \"\"\"Puts the event and args as a `Msg` on the queue\n",
    "        \"\"\"\n",
    "        msg = Msg(event, args)\n",
    "        self.queue.put(msg)\n",
    "    def dispatch(self, msg):\n",
    "        event, args = msg\n",
    "        handler = getattr(self, \"do_%s\" % event, None)\n",
    "        if not handler:\n",
    "            raise NotImplementedError(\"Process has no handler for [%s]\" % event)\n",
    "        handler(*args)\n",
    "    def run(self):\n",
    "        while True:\n",
    "            msg = self.queue.get()\n",
    "            self.dispatch(msg)"
   ]
  },
  {
   "cell_type": "markdown",
   "metadata": {},
   "source": [
    "    7. Create a date object of your day of birth."
   ]
  },
  {
   "cell_type": "code",
   "execution_count": 59,
   "metadata": {},
   "outputs": [
    {
     "name": "stdout",
     "output_type": "stream",
     "text": [
      "day_of_birth = 11-06-1998\n"
     ]
    }
   ],
   "source": [
    "day_of_birth = \"11-06-1998\"\n",
    "print('day_of_birth =',day_of_birth)"
   ]
  },
  {
   "cell_type": "markdown",
   "metadata": {},
   "source": [
    "    8. What day of the week was your day of birth?"
   ]
  },
  {
   "cell_type": "code",
   "execution_count": 65,
   "metadata": {},
   "outputs": [
    {
     "name": "stdout",
     "output_type": "stream",
     "text": [
      "Day of Birth : Thursday\n"
     ]
    }
   ],
   "source": [
    "import datetime\n",
    "import calendar\n",
    "\n",
    "def dob(date):\n",
    "\tborndate = datetime.datetime.strptime(date, '%d %m %Y').weekday()\n",
    "\treturn (calendar.day_name[borndate])\n",
    "\n",
    "date = '11 06 1998'\n",
    "print('Day of Birth :',dob(date))\n"
   ]
  },
  {
   "cell_type": "markdown",
   "metadata": {},
   "source": [
    "    9. When will you be (or when were you) 10,000 days old?"
   ]
  },
  {
   "cell_type": "code",
   "execution_count": 73,
   "metadata": {},
   "outputs": [
    {
     "name": "stdout",
     "output_type": "stream",
     "text": [
      "Date of Birth : 11/06/1998\n",
      "You will be 10000 days old on 2025-10-27 00:00:00\n"
     ]
    }
   ],
   "source": [
    "import datetime\n",
    "\n",
    "dob = input(\"Enter your Date of Birth: \")\n",
    "print(\"Date of Birth :\",dob)\n",
    "a =  datetime.datetime.strptime(dob, \"%d/%m/%Y\")\n",
    "newdate = a + datetime.timedelta(days=10000)\n",
    "print(\"You will be 10000 days old on\",newdate)"
   ]
  }
 ],
 "metadata": {
  "interpreter": {
   "hash": "b3ba2566441a7c06988d0923437866b63cedc61552a5af99d1f4fb67d367b25f"
  },
  "kernelspec": {
   "display_name": "Python 3.9.7 64-bit ('base': conda)",
   "language": "python",
   "name": "python3"
  },
  "language_info": {
   "codemirror_mode": {
    "name": "ipython",
    "version": 3
   },
   "file_extension": ".py",
   "mimetype": "text/x-python",
   "name": "python",
   "nbconvert_exporter": "python",
   "pygments_lexer": "ipython3",
   "version": "3.9.7"
  },
  "orig_nbformat": 4
 },
 "nbformat": 4,
 "nbformat_minor": 2
}
