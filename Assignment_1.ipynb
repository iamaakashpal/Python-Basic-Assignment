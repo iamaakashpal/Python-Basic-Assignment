{
 "cells": [
  {
   "cell_type": "markdown",
   "metadata": {},
   "source": [
    "        1. In the below elements which of them are Values or an expression? eg:- Values can be integer or string and expressions will be mathematical operators.\n",
    " \n",
    "        * \t:- It is an Expression.\n",
    "        'hello' :- It is an Value.\n",
    "        -87.8 \t:- It is an Value.\n",
    "        -\t:- It is an Expression.\n",
    "        / \t:- It is an Expression.\n",
    "        + \t:- It is an Expression.\n",
    "        6 \t:- It is an Value.\n",
    "        "
   ]
  },
  {
   "cell_type": "markdown",
   "metadata": {},
   "source": [
    "        2. What is the difference between string and variable?\n",
    "\n",
    "            string : A string is a data type which store values in Single inverted comma (i.e. a='Aakash') or Double inverted comma (i.e. b=\"Aakash\") in text format.\n",
    "\n",
    "            variable : Variable are nothing but the name given to the storage area in the memory which store data in integer,string,boolean,float and complex number.\n",
    "\n",
    "            Example : \n",
    "\n",
    "            a=\"Aakash\"\n",
    "\n",
    "            In the above Example, a is the name of the variable which store string value as \"Aakash\"."
   ]
  },
  {
   "cell_type": "markdown",
   "metadata": {},
   "source": [
    "        3. Describe three different data types.\n",
    "\n",
    "        i.string :  A string is a data type which store values in Single inverted comma (i.e. a='Aakash') or Double inverted comma (i.e. b=\"Aakash\") in text format.\n",
    "\n",
    "            Example : "
   ]
  },
  {
   "cell_type": "code",
   "execution_count": 10,
   "metadata": {},
   "outputs": [
    {
     "data": {
      "text/plain": [
       "str"
      ]
     },
     "execution_count": 10,
     "metadata": {},
     "output_type": "execute_result"
    }
   ],
   "source": [
    "        a='Aakash'\n",
    "        b=\"Aakash\"\n",
    "        type(b)\n",
    "        type(a)"
   ]
  },
  {
   "cell_type": "markdown",
   "metadata": {},
   "source": [
    "        ii.int : A int is a data type which store positive number,0 and negative Number.\n",
    "\n",
    "            Example : "
   ]
  },
  {
   "cell_type": "code",
   "execution_count": 4,
   "metadata": {},
   "outputs": [
    {
     "data": {
      "text/plain": [
       "int"
      ]
     },
     "execution_count": 4,
     "metadata": {},
     "output_type": "execute_result"
    }
   ],
   "source": [
    "        a=10\n",
    "        type(a)"
   ]
  },
  {
   "cell_type": "markdown",
   "metadata": {},
   "source": [
    "        iii.float : A float is a data type which store number in decimal point.\n",
    "\n",
    "            Example:"
   ]
  },
  {
   "cell_type": "code",
   "execution_count": 5,
   "metadata": {},
   "outputs": [
    {
     "data": {
      "text/plain": [
       "float"
      ]
     },
     "execution_count": 5,
     "metadata": {},
     "output_type": "execute_result"
    }
   ],
   "source": [
    "        a=10.5\n",
    "        type(a)"
   ]
  },
  {
   "cell_type": "markdown",
   "metadata": {},
   "source": [
    "        iv.Boolean : A boolean is a data type which store values as True and False.\n",
    "\n",
    "            Example : "
   ]
  },
  {
   "cell_type": "code",
   "execution_count": 6,
   "metadata": {},
   "outputs": [
    {
     "data": {
      "text/plain": [
       "bool"
      ]
     },
     "execution_count": 6,
     "metadata": {},
     "output_type": "execute_result"
    }
   ],
   "source": [
    "        a=True\n",
    "        b=False\n",
    "        type(a)\n",
    "        type(b)"
   ]
  },
  {
   "cell_type": "markdown",
   "metadata": {},
   "source": [
    "        v.Complex Number : Complex Number is the data type which is the combination of Real Number and Imaginary Number.Imaginary Number always denotes by letter 'j'.\n",
    "\n",
    "            Example :"
   ]
  },
  {
   "cell_type": "code",
   "execution_count": 7,
   "metadata": {},
   "outputs": [
    {
     "data": {
      "text/plain": [
       "complex"
      ]
     },
     "execution_count": 7,
     "metadata": {},
     "output_type": "execute_result"
    }
   ],
   "source": [
    "        a = 10 + 20j   # 10 is the Real Number whereas 20j is the Imaginary Number.\n",
    "        type(a)"
   ]
  },
  {
   "cell_type": "markdown",
   "metadata": {},
   "source": [
    "        4. What is an expression made up of? What do all expressions do?\n",
    "\n",
    "            An expression is made up of combination of the operators,values and variables.The Use of Expression is that the interpreter evaluates the expression and displays the result.\n",
    "\n",
    "            Example :"
   ]
  },
  {
   "cell_type": "code",
   "execution_count": 11,
   "metadata": {},
   "outputs": [
    {
     "name": "stdout",
     "output_type": "stream",
     "text": [
      "Addition Of two Number is 15.\n"
     ]
    }
   ],
   "source": [
    "            a = 5             # a is the variable name whereas 5 is the integer value.\n",
    "            b = 10            # b is the variable name whereas 10 is the integer value.\n",
    "            sum = a + b       # sum is the variable name which store the Expression(Addition).\n",
    "            print(\"Addition Of two Number is \"+str(sum)+\".\")"
   ]
  },
  {
   "cell_type": "markdown",
   "metadata": {},
   "source": [
    "        5. This assignment statements, like spam = 10. What is the difference between an expression and a statement?\n",
    "\n",
    "            The assignment statements is used to assign a value to the variable where as the expression evaluates the value of a variable.\n",
    "            In spam = 10 , Integer value 10 is assigned to a variable name spam.\n",
    "            But in expression sum = a+b, the value of a sum variable depends upon the value of a and b.\n",
    "            "
   ]
  },
  {
   "cell_type": "markdown",
   "metadata": {},
   "source": [
    "        6. After running the following code, what does the variable bacon contain?\n",
    "        \n",
    "        bacon = 22\n",
    "        bacon + 1\n",
    "\n",
    "        The Variable bacon will contain value as 22,because the increment operator is wrong it should be bacon+=1 or bacon=bacon + 1.\n",
    "        So the value for bacon will not changed and it will be 22.\n",
    "\n",
    "        Example : "
   ]
  },
  {
   "cell_type": "code",
   "execution_count": 18,
   "metadata": {},
   "outputs": [
    {
     "name": "stdout",
     "output_type": "stream",
     "text": [
      "a = 23\n",
      "bacon = 22\n"
     ]
    }
   ],
   "source": [
    "            bacon = 22\n",
    "            a = bacon + 1\n",
    "            print(\"a = \" + str(a))\n",
    "            print('bacon = '+str(bacon))"
   ]
  },
  {
   "cell_type": "markdown",
   "metadata": {},
   "source": [
    "        7. What should the values of the following two terms be?\n",
    "        \n",
    "        'spam' + 'spamspam'\n",
    "        'spam' * 3\n",
    "\n",
    "        The values for both the expression will be same.\n",
    "\n",
    "        Examples : "
   ]
  },
  {
   "cell_type": "code",
   "execution_count": 22,
   "metadata": {},
   "outputs": [
    {
     "data": {
      "text/plain": [
       "'spamspamspam'"
      ]
     },
     "execution_count": 22,
     "metadata": {},
     "output_type": "execute_result"
    }
   ],
   "source": [
    "        'spam' + 'spamspam'\n",
    "\n"
   ]
  },
  {
   "cell_type": "code",
   "execution_count": 23,
   "metadata": {},
   "outputs": [
    {
     "data": {
      "text/plain": [
       "'spamspamspam'"
      ]
     },
     "execution_count": 23,
     "metadata": {},
     "output_type": "execute_result"
    }
   ],
   "source": [
    "        'spam' * 3"
   ]
  },
  {
   "cell_type": "markdown",
   "metadata": {},
   "source": [
    "        8. Why is eggs a valid variable name while 100 is invalid?\n",
    "\n",
    "        Variable name in python start with characters or underscore and not with Number.\n",
    "\n",
    "        Examples : "
   ]
  },
  {
   "cell_type": "code",
   "execution_count": 28,
   "metadata": {},
   "outputs": [
    {
     "name": "stdout",
     "output_type": "stream",
     "text": [
      "5\n",
      "10\n"
     ]
    }
   ],
   "source": [
    "        eggs=5\n",
    "        _eggs=10\n",
    "        print(eggs)\n",
    "        print(_eggs)"
   ]
  },
  {
   "cell_type": "code",
   "execution_count": 25,
   "metadata": {},
   "outputs": [
    {
     "ename": "SyntaxError",
     "evalue": "cannot assign to literal (Temp/ipykernel_8756/3481255616.py, line 1)",
     "output_type": "error",
     "traceback": [
      "\u001b[1;36m  File \u001b[1;32m\"C:\\Users\\ADMINI~1\\AppData\\Local\\Temp/ipykernel_8756/3481255616.py\"\u001b[1;36m, line \u001b[1;32m1\u001b[0m\n\u001b[1;33m    100=\"Aakash\"\u001b[0m\n\u001b[1;37m    ^\u001b[0m\n\u001b[1;31mSyntaxError\u001b[0m\u001b[1;31m:\u001b[0m cannot assign to literal\n"
     ]
    }
   ],
   "source": [
    "        100=\"Aakash\"\n",
    "        100"
   ]
  },
  {
   "cell_type": "markdown",
   "metadata": {},
   "source": [
    "        9. What three functions can be used to get the integer, floating-point number, or string version of a value?\n",
    "\n",
    "        i. int()    will convert value in Integer\n",
    "        ii. float()  will convert value in Float\n",
    "        ii. str()    will convert value in string\n",
    "\n",
    "        Examples : "
   ]
  },
  {
   "cell_type": "code",
   "execution_count": 39,
   "metadata": {},
   "outputs": [
    {
     "data": {
      "text/plain": [
       "10"
      ]
     },
     "execution_count": 39,
     "metadata": {},
     "output_type": "execute_result"
    }
   ],
   "source": [
    "# i.\n",
    "a=10.5\n",
    "int(a)"
   ]
  },
  {
   "cell_type": "code",
   "execution_count": 41,
   "metadata": {},
   "outputs": [
    {
     "data": {
      "text/plain": [
       "7.0"
      ]
     },
     "execution_count": 41,
     "metadata": {},
     "output_type": "execute_result"
    }
   ],
   "source": [
    "# ii.\n",
    "b=7\n",
    "float(b)"
   ]
  },
  {
   "cell_type": "code",
   "execution_count": 42,
   "metadata": {},
   "outputs": [
    {
     "data": {
      "text/plain": [
       "'100'"
      ]
     },
     "execution_count": 42,
     "metadata": {},
     "output_type": "execute_result"
    }
   ],
   "source": [
    "# iii.\n",
    "c=100\n",
    "str(c)"
   ]
  },
  {
   "cell_type": "markdown",
   "metadata": {},
   "source": [
    "        10. Why does this expression cause an error? How can you fix it?\n",
    "        'I have eaten ' + 99 + ' burritos.'\n",
    "\n",
    "        This will give error because we cannot concatenate string value with integer value.To fix this error we will convert 99 into string format.\n",
    "\n",
    "        Example : "
   ]
  },
  {
   "cell_type": "code",
   "execution_count": 43,
   "metadata": {},
   "outputs": [
    {
     "ename": "TypeError",
     "evalue": "can only concatenate str (not \"int\") to str",
     "output_type": "error",
     "traceback": [
      "\u001b[1;31m---------------------------------------------------------------------------\u001b[0m",
      "\u001b[1;31mTypeError\u001b[0m                                 Traceback (most recent call last)",
      "\u001b[1;32mC:\\Users\\ADMINI~1\\AppData\\Local\\Temp/ipykernel_8756/1774935878.py\u001b[0m in \u001b[0;36m<module>\u001b[1;34m\u001b[0m\n\u001b[1;32m----> 1\u001b[1;33m \u001b[1;34m'I have eaten '\u001b[0m \u001b[1;33m+\u001b[0m \u001b[1;36m99\u001b[0m \u001b[1;33m+\u001b[0m \u001b[1;34m' burritos.'\u001b[0m\u001b[1;33m\u001b[0m\u001b[1;33m\u001b[0m\u001b[0m\n\u001b[0m",
      "\u001b[1;31mTypeError\u001b[0m: can only concatenate str (not \"int\") to str"
     ]
    }
   ],
   "source": [
    "'I have eaten ' + 99 + ' burritos.'"
   ]
  },
  {
   "cell_type": "code",
   "execution_count": 44,
   "metadata": {},
   "outputs": [
    {
     "data": {
      "text/plain": [
       "'I have eaten 99 burritos.'"
      ]
     },
     "execution_count": 44,
     "metadata": {},
     "output_type": "execute_result"
    }
   ],
   "source": [
    "'I have eaten ' + str(99) + ' burritos.'"
   ]
  }
 ],
 "metadata": {
  "interpreter": {
   "hash": "b3ba2566441a7c06988d0923437866b63cedc61552a5af99d1f4fb67d367b25f"
  },
  "kernelspec": {
   "display_name": "Python 3.9.7 64-bit ('base': conda)",
   "language": "python",
   "name": "python3"
  },
  "language_info": {
   "codemirror_mode": {
    "name": "ipython",
    "version": 3
   },
   "file_extension": ".py",
   "mimetype": "text/x-python",
   "name": "python",
   "nbconvert_exporter": "python",
   "pygments_lexer": "ipython3",
   "version": "3.9.7"
  },
  "orig_nbformat": 4
 },
 "nbformat": 4,
 "nbformat_minor": 2
}
